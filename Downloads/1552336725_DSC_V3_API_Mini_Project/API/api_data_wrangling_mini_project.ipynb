{
 "cells": [
  {
   "cell_type": "markdown",
   "metadata": {},
   "source": [
    "This exercise will require you to pull some data from the Qunadl API. Qaundl is currently the most widely used aggregator of financial market data."
   ]
  },
  {
   "cell_type": "markdown",
   "metadata": {},
   "source": [
    "As a first step, you will need to register a free account on the http://www.quandl.com website."
   ]
  },
  {
   "cell_type": "markdown",
   "metadata": {},
   "source": [
    "After you register, you will be provided with a unique API key, that you should store:"
   ]
  },
  {
   "cell_type": "code",
   "execution_count": 1,
   "metadata": {},
   "outputs": [],
   "source": [
    "# Store the API key as a string - according to PEP8, constants are always named in all upper case\n",
    "API_KEY = 'N-PbyeZd3xojuM5vxc6r'"
   ]
  },
  {
   "cell_type": "markdown",
   "metadata": {},
   "source": [
    "Qaundl has a large number of data sources, but, unfortunately, most of them require a Premium subscription. Still, there are also a good number of free datasets."
   ]
  },
  {
   "cell_type": "markdown",
   "metadata": {},
   "source": [
    "For this mini project, we will focus on equities data from the Frankfurt Stock Exhange (FSE), which is available for free. We'll try and analyze the stock prices of a company called Carl Zeiss Meditec, which manufactures tools for eye examinations, as well as medical lasers for laser eye surgery: https://www.zeiss.com/meditec/int/home.html. The company is listed under the stock ticker AFX_X."
   ]
  },
  {
   "cell_type": "markdown",
   "metadata": {},
   "source": [
    "You can find the detailed Quandl API instructions here: https://docs.quandl.com/docs/time-series"
   ]
  },
  {
   "cell_type": "markdown",
   "metadata": {},
   "source": [
    "While there is a dedicated Python package for connecting to the Quandl API, we would prefer that you use the *requests* package, which can be easily downloaded using *pip* or *conda*. You can find the documentation for the package here: http://docs.python-requests.org/en/master/ "
   ]
  },
  {
   "cell_type": "markdown",
   "metadata": {},
   "source": [
    "Finally, apart from the *requests* package, you are encouraged to not use any third party Python packages, such as *pandas*, and instead focus on what's available in the Python Standard Library (the *collections* module might come in handy: https://pymotw.com/3/collections/ ).\n",
    "Also, since you won't have access to DataFrames, you are encouraged to us Python's native data structures - preferably dictionaries, though some questions can also be answered using lists.\n",
    "You can read more on these data structures here: https://docs.python.org/3/tutorial/datastructures.html"
   ]
  },
  {
   "cell_type": "markdown",
   "metadata": {},
   "source": [
    "Keep in mind that the JSON responses you will be getting from the API map almost one-to-one to Python's dictionaries. Unfortunately, they can be very nested, so make sure you read up on indexing dictionaries in the documentation provided above."
   ]
  },
  {
   "cell_type": "code",
   "execution_count": 2,
   "metadata": {},
   "outputs": [],
   "source": [
    "# First, import the relevant modules\n",
    "import requests"
   ]
  },
  {
   "cell_type": "code",
   "execution_count": 3,
   "metadata": {},
   "outputs": [],
   "source": [
    "# Now, call the Quandl API and pull out a small sample of the data (only one day) to get a glimpse\n",
    "url = \"https://www.quandl.com/api/v3/datasets/FSE/AFX_X/data.json?api_key=\"+API_KEY\n",
    "r = requests.get(url)\n",
    "\n",
    "# into the JSON structure that will be returned\n",
    "json_data = r.json()"
   ]
  },
  {
   "cell_type": "code",
   "execution_count": 4,
   "metadata": {},
   "outputs": [
    {
     "name": "stdout",
     "output_type": "stream",
     "text": [
      "200\n",
      "utf-8\n",
      "application/json; charset=utf-8\n"
     ]
    }
   ],
   "source": [
    "print(r.status_code)\n",
    "print(r.encoding)\n",
    "print(r.headers['content-type'])"
   ]
  },
  {
   "cell_type": "code",
   "execution_count": 5,
   "metadata": {},
   "outputs": [
    {
     "name": "stdout",
     "output_type": "stream",
     "text": [
      "dict_keys(['dataset_data'])\n",
      "\n",
      " * Dataset_data keys are: \n",
      " dict_keys(['limit', 'transform', 'column_index', 'column_names', 'start_date', 'end_date', 'frequency', 'data', 'collapse', 'order']) \n",
      "\n",
      "* Column names are:\n",
      " ['Date', 'Open', 'High', 'Low', 'Close', 'Change', 'Traded Volume', 'Turnover', 'Last Price of the Day', 'Daily Traded Units', 'Daily Turnover'] \n",
      "\n",
      "* Datasets top 3 rows are:\n",
      " ['2020-12-01', 112.2, 112.2, 111.5, 112.0, None, 51.0, 5703.0, None, None, None] \n",
      " ['2020-11-30', 111.0, 113.6, 111.0, 112.1, None, 315.0, 35111.5, None, None, None] \n",
      " ['2020-11-26', 111.3, 112.0, 110.5, 111.6, None, 254.0, 28367.5, None, None, None]\n"
     ]
    }
   ],
   "source": [
    "# Inspect the JSON structure of the object you created, and take note of how nested it is,\n",
    "# as well as the overall structure\n",
    "print(json_data.keys())\n",
    "print('\\n * Dataset_data keys are: \\n', json_data['dataset_data'].keys(), '\\n')\n",
    "\n",
    "print('* Column names are:\\n',json_data['dataset_data']['column_names'],'\\n')\n",
    "\n",
    "print('* Datasets top 3 rows are:\\n', json_data['dataset_data']['data'][0],'\\n', json_data['dataset_data']['data'][1],'\\n', json_data['dataset_data']['data'][3])"
   ]
  },
  {
   "cell_type": "markdown",
   "metadata": {},
   "source": [
    "These are your tasks for this mini project:\n",
    "\n",
    "1. Collect data from the Franfurt Stock Exchange, for the ticker AFX_X, for the whole year 2017 (keep in mind that the date format is YYYY-MM-DD).\n",
    "2. Convert the returned JSON object into a Python dictionary.\n",
    "3. Calculate what the highest and lowest opening prices were for the stock in this period.\n",
    "4. What was the largest change in any one day (based on High and Low price)?\n",
    "5. What was the largest change between any two days (based on Closing Price)?\n",
    "6. What was the average daily trading volume during this year?\n",
    "7. (Optional) What was the median trading volume during this year. (Note: you may need to implement your own function for calculating the median.)"
   ]
  },
  {
   "cell_type": "markdown",
   "metadata": {},
   "source": [
    "## Mini task Project\n",
    "1. Collect data from the Franfurt Stock Exchange, for the ticker AFX_X, for the whole year 2017 (keep in mind that the date format is YYYY-MM-DD)."
   ]
  },
  {
   "cell_type": "code",
   "execution_count": 6,
   "metadata": {},
   "outputs": [],
   "source": [
    "url = \"https://www.quandl.com/api/v3/datasets/FSE/AFX_X/data.json?+&start_date=2017-01-01&end_date=2017-12-31&\"+API_KEY\n",
    "r_data = requests.get(url)"
   ]
  },
  {
   "cell_type": "markdown",
   "metadata": {},
   "source": [
    "2. Convert the returned JSON object into a Python dictionary."
   ]
  },
  {
   "cell_type": "code",
   "execution_count": 7,
   "metadata": {},
   "outputs": [
    {
     "data": {
      "text/plain": [
       "dict"
      ]
     },
     "execution_count": 7,
     "metadata": {},
     "output_type": "execute_result"
    }
   ],
   "source": [
    "json_data2 = r_data.json()\n",
    "type(json_data2)"
   ]
  },
  {
   "cell_type": "code",
   "execution_count": 8,
   "metadata": {},
   "outputs": [
    {
     "name": "stdout",
     "output_type": "stream",
     "text": [
      "dict_keys(['dataset_data'])\n",
      "\n",
      " * Dataset_data keys are: \n",
      " dict_keys(['limit', 'transform', 'column_index', 'column_names', 'start_date', 'end_date', 'frequency', 'data', 'collapse', 'order']) \n",
      "\n",
      "* Column names are:\n",
      " ['Date', 'Open', 'High', 'Low', 'Close', 'Change', 'Traded Volume', 'Turnover', 'Last Price of the Day', 'Daily Traded Units', 'Daily Turnover'] \n",
      "\n",
      "* Datasets top 3 rows are:\n",
      " ['2017-12-29', 51.76, 51.94, 51.45, 51.76, None, 34640.0, 1792304.0, None, None, None] \n",
      " ['2020-11-30', 111.0, 113.6, 111.0, 112.1, None, 315.0, 35111.5, None, None, None] \n",
      " ['2020-11-26', 111.3, 112.0, 110.5, 111.6, None, 254.0, 28367.5, None, None, None]\n"
     ]
    }
   ],
   "source": [
    "# to understand structure\n",
    "print(json_data2.keys())\n",
    "print('\\n * Dataset_data keys are: \\n', json_data2['dataset_data'].keys(), '\\n')\n",
    "\n",
    "print('* Column names are:\\n',json_data2['dataset_data']['column_names'],'\\n')\n",
    "\n",
    "print('* Datasets top 3 rows are:\\n', json_data2['dataset_data']['data'][0],'\\n', json_data['dataset_data']['data'][1],'\\n', json_data['dataset_data']['data'][3])\n",
    "\n"
   ]
  },
  {
   "cell_type": "markdown",
   "metadata": {},
   "source": [
    "3. Calculate what the highest and lowest opening prices were for the stock in this period."
   ]
  },
  {
   "cell_type": "code",
   "execution_count": 10,
   "metadata": {},
   "outputs": [],
   "source": [
    "data_2017 = json_data2['dataset_data']['data']\n",
    "# Note \"open\" is indexed on 1"
   ]
  },
  {
   "cell_type": "code",
   "execution_count": 11,
   "metadata": {},
   "outputs": [
    {
     "name": "stdout",
     "output_type": "stream",
     "text": [
      "255\n"
     ]
    }
   ],
   "source": [
    "data_open = []\n",
    "for i in range(len(data_2017)):\n",
    "    data_open.append(data_2017[i][1])\n",
    "print(len(data_open))"
   ]
  },
  {
   "cell_type": "code",
   "execution_count": 12,
   "metadata": {},
   "outputs": [],
   "source": [
    "#to remove nulls from the list, we use list comprehension\n",
    "clean_data_open = [i for i in data_open if i]"
   ]
  },
  {
   "cell_type": "code",
   "execution_count": 13,
   "metadata": {},
   "outputs": [
    {
     "name": "stdout",
     "output_type": "stream",
     "text": [
      "The highest opening price for the stock in year 2017 is  53.11\n",
      "The lowest opening price for the stock in year 2017 is  34.0\n"
     ]
    }
   ],
   "source": [
    "print('The highest opening price for the stock in year 2017 is ', max(clean_data_open))\n",
    "'\\n\\n'\n",
    "\n",
    "print('The lowest opening price for the stock in year 2017 is ', min(clean_data_open))"
   ]
  },
  {
   "cell_type": "markdown",
   "metadata": {},
   "source": [
    "4. What was the largest change in any one day (based on High and Low price)?"
   ]
  },
  {
   "cell_type": "code",
   "execution_count": 14,
   "metadata": {},
   "outputs": [],
   "source": [
    "#we observe that daily high and low is indexed on 2 and 3 rsptvly\n",
    "data_highs = [data_2017[i][2] for i in range(len(data_2017))]\n",
    "data_lows = [data_2017[i][3] for i in range(len(data_2017))]\n",
    "\n",
    "price_change = [abs(data_highs[12] - data_lows[12]) for i in range(len(data_lows))]"
   ]
  },
  {
   "cell_type": "code",
   "execution_count": 15,
   "metadata": {},
   "outputs": [
    {
     "name": "stdout",
     "output_type": "stream",
     "text": [
      "The largest change in any day of 2017 is  1.1900000000000048\n"
     ]
    }
   ],
   "source": [
    "print('The largest change in any day of 2017 is ', max(price_change))"
   ]
  },
  {
   "cell_type": "markdown",
   "metadata": {},
   "source": [
    "5. What was the largest change between any two days (based on Closing Price)?"
   ]
  },
  {
   "cell_type": "code",
   "execution_count": 16,
   "metadata": {},
   "outputs": [],
   "source": [
    "#based on closing price \n",
    "closing_data = [data_2017[i][4] for i in range(len(data_2017))]\n",
    "\n",
    "twodays_change = [abs(closing_data[i+1] - closing_data[i]) for i in range(len(closing_data) - 1)]"
   ]
  },
  {
   "cell_type": "code",
   "execution_count": 17,
   "metadata": {},
   "outputs": [
    {
     "name": "stdout",
     "output_type": "stream",
     "text": [
      "The largest change between any two days is 2.559999999999995\n"
     ]
    }
   ],
   "source": [
    "print('The largest change between any two days is', max(twodays_change))"
   ]
  },
  {
   "cell_type": "markdown",
   "metadata": {},
   "source": [
    "6. What was the average daily trading volume during this year?"
   ]
  },
  {
   "cell_type": "code",
   "execution_count": 19,
   "metadata": {},
   "outputs": [
    {
     "name": "stdout",
     "output_type": "stream",
     "text": [
      "The average daily trading volume for the year 2017 is 89124.33725490196\n"
     ]
    }
   ],
   "source": [
    "import numpy as np\n",
    "\n",
    "avgvol_data = [data_2017[i][6] for i in range(len(data_2017))]\n",
    "print('The average daily trading volume for the year 2017 is', np.mean(avgvol_data))"
   ]
  }
 ],
 "metadata": {
  "kernelspec": {
   "display_name": "Python 3",
   "language": "python",
   "name": "python3"
  },
  "language_info": {
   "codemirror_mode": {
    "name": "ipython",
    "version": 3
   },
   "file_extension": ".py",
   "mimetype": "text/x-python",
   "name": "python",
   "nbconvert_exporter": "python",
   "pygments_lexer": "ipython3",
   "version": "3.7.6"
  }
 },
 "nbformat": 4,
 "nbformat_minor": 2
}
